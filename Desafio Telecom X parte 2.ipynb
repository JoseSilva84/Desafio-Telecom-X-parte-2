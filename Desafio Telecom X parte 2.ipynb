{
 "cells": [
  {
   "cell_type": "markdown",
   "id": "3d2e8079",
   "metadata": {},
   "source": [
    "🛠️ Preparação dos Dados"
   ]
  },
  {
   "cell_type": "markdown",
   "id": "ad4f471c",
   "metadata": {},
   "source": [
    "Importando as bibliotecas do projeto"
   ]
  },
  {
   "cell_type": "code",
   "execution_count": 1,
   "id": "54ce9396",
   "metadata": {},
   "outputs": [
    {
     "name": "stderr",
     "output_type": "stream",
     "text": [
      "c:\\Users\\curso\\AppData\\Local\\Programs\\Python\\Python312\\Lib\\site-packages\\seaborn\\_statistics.py:32: UserWarning: A NumPy version >=1.23.5 and <2.3.0 is required for this version of SciPy (detected version 2.3.2)\n",
      "  from scipy.stats import gaussian_kde\n"
     ]
    }
   ],
   "source": [
    "import numpy as np\n",
    "import matplotlib.pyplot as plt\n",
    "import seaborn as sns\n",
    "\n",
    "from sklearn.model_selection import train_test_split, RandomizedSearchCV\n",
    "from sklearn.preprocessing import StandardScaler, OneHotEncoder\n",
    "from sklearn.linear_model import LogisticRegression\n",
    "from sklearn.ensemble import RandomForestClassifier\n",
    "from sklearn.neighbors import KNeighborsClassifier\n",
    "from sklearn.svm import SVC\n",
    "from sklearn.decomposition import PCA\n",
    "from sklearn.metrics import (\n",
    "    accuracy_score, precision_score, recall_score, f1_score,\n",
    "    roc_auc_score, confusion_matrix, classification_report\n",
    ")\n",
    "from imblearn.over_sampling import SMOTE\n",
    "from imblearn.under_sampling import RandomUnderSampler\n",
    "import xgboost as xgb"
   ]
  },
  {
   "cell_type": "markdown",
   "id": "3c7023f5",
   "metadata": {},
   "source": [
    "Extração do Arquivo Tratado"
   ]
  },
  {
   "cell_type": "code",
   "execution_count": 4,
   "id": "4e55ea97",
   "metadata": {},
   "outputs": [
    {
     "data": {
      "text/html": [
       "<div>\n",
       "<style scoped>\n",
       "    .dataframe tbody tr th:only-of-type {\n",
       "        vertical-align: middle;\n",
       "    }\n",
       "\n",
       "    .dataframe tbody tr th {\n",
       "        vertical-align: top;\n",
       "    }\n",
       "\n",
       "    .dataframe thead th {\n",
       "        text-align: right;\n",
       "    }\n",
       "</style>\n",
       "<table border=\"1\" class=\"dataframe\">\n",
       "  <thead>\n",
       "    <tr style=\"text-align: right;\">\n",
       "      <th></th>\n",
       "      <th>Churn</th>\n",
       "      <th>Gender</th>\n",
       "      <th>SeniorCitizen</th>\n",
       "      <th>Partner</th>\n",
       "      <th>Dependents</th>\n",
       "      <th>Tenure</th>\n",
       "      <th>PhoneService</th>\n",
       "      <th>MultipleLines</th>\n",
       "      <th>InternetService</th>\n",
       "      <th>OnlineSecurity</th>\n",
       "      <th>...</th>\n",
       "      <th>Contract</th>\n",
       "      <th>PaperlessBilling</th>\n",
       "      <th>PaymentMethod</th>\n",
       "      <th>DailyCharges</th>\n",
       "      <th>MonthlyCharges</th>\n",
       "      <th>AvgServiceCost</th>\n",
       "      <th>TotalCharges</th>\n",
       "      <th>ServiceCount</th>\n",
       "      <th>TenureGroup</th>\n",
       "      <th>Churn_binary</th>\n",
       "    </tr>\n",
       "  </thead>\n",
       "  <tbody>\n",
       "    <tr>\n",
       "      <th>0</th>\n",
       "      <td>No</td>\n",
       "      <td>Female</td>\n",
       "      <td>No</td>\n",
       "      <td>Yes</td>\n",
       "      <td>Yes</td>\n",
       "      <td>9</td>\n",
       "      <td>Yes</td>\n",
       "      <td>No</td>\n",
       "      <td>Dsl</td>\n",
       "      <td>No</td>\n",
       "      <td>...</td>\n",
       "      <td>One year</td>\n",
       "      <td>Yes</td>\n",
       "      <td>Mailed check</td>\n",
       "      <td>65,92</td>\n",
       "      <td>65,6</td>\n",
       "      <td>16,4</td>\n",
       "      <td>593,3</td>\n",
       "      <td>4</td>\n",
       "      <td>0–12</td>\n",
       "      <td>0</td>\n",
       "    </tr>\n",
       "    <tr>\n",
       "      <th>1</th>\n",
       "      <td>No</td>\n",
       "      <td>Male</td>\n",
       "      <td>No</td>\n",
       "      <td>No</td>\n",
       "      <td>No</td>\n",
       "      <td>9</td>\n",
       "      <td>Yes</td>\n",
       "      <td>Yes</td>\n",
       "      <td>Dsl</td>\n",
       "      <td>No</td>\n",
       "      <td>...</td>\n",
       "      <td>Month-to-month</td>\n",
       "      <td>No</td>\n",
       "      <td>Mailed check</td>\n",
       "      <td>60,27</td>\n",
       "      <td>59,9</td>\n",
       "      <td>29,95</td>\n",
       "      <td>542,4</td>\n",
       "      <td>2</td>\n",
       "      <td>0–12</td>\n",
       "      <td>0</td>\n",
       "    </tr>\n",
       "    <tr>\n",
       "      <th>2</th>\n",
       "      <td>Yes</td>\n",
       "      <td>Male</td>\n",
       "      <td>No</td>\n",
       "      <td>No</td>\n",
       "      <td>No</td>\n",
       "      <td>4</td>\n",
       "      <td>Yes</td>\n",
       "      <td>No</td>\n",
       "      <td>Fiber optic</td>\n",
       "      <td>No</td>\n",
       "      <td>...</td>\n",
       "      <td>Month-to-month</td>\n",
       "      <td>Yes</td>\n",
       "      <td>Electronic check</td>\n",
       "      <td>70,21</td>\n",
       "      <td>73,9</td>\n",
       "      <td>36,95</td>\n",
       "      <td>280,85</td>\n",
       "      <td>2</td>\n",
       "      <td>0–12</td>\n",
       "      <td>1</td>\n",
       "    </tr>\n",
       "    <tr>\n",
       "      <th>3</th>\n",
       "      <td>Yes</td>\n",
       "      <td>Male</td>\n",
       "      <td>Yes</td>\n",
       "      <td>Yes</td>\n",
       "      <td>No</td>\n",
       "      <td>13</td>\n",
       "      <td>Yes</td>\n",
       "      <td>No</td>\n",
       "      <td>Fiber optic</td>\n",
       "      <td>No</td>\n",
       "      <td>...</td>\n",
       "      <td>Month-to-month</td>\n",
       "      <td>Yes</td>\n",
       "      <td>Electronic check</td>\n",
       "      <td>95,22</td>\n",
       "      <td>98,0</td>\n",
       "      <td>19,6</td>\n",
       "      <td>1237,85</td>\n",
       "      <td>5</td>\n",
       "      <td>13–24</td>\n",
       "      <td>1</td>\n",
       "    </tr>\n",
       "    <tr>\n",
       "      <th>4</th>\n",
       "      <td>Yes</td>\n",
       "      <td>Female</td>\n",
       "      <td>Yes</td>\n",
       "      <td>Yes</td>\n",
       "      <td>No</td>\n",
       "      <td>3</td>\n",
       "      <td>Yes</td>\n",
       "      <td>No</td>\n",
       "      <td>Fiber optic</td>\n",
       "      <td>No</td>\n",
       "      <td>...</td>\n",
       "      <td>Month-to-month</td>\n",
       "      <td>Yes</td>\n",
       "      <td>Mailed check</td>\n",
       "      <td>89,13</td>\n",
       "      <td>83,9</td>\n",
       "      <td>27,96666666666667</td>\n",
       "      <td>267,4</td>\n",
       "      <td>3</td>\n",
       "      <td>0–12</td>\n",
       "      <td>1</td>\n",
       "    </tr>\n",
       "  </tbody>\n",
       "</table>\n",
       "<p>5 rows × 25 columns</p>\n",
       "</div>"
      ],
      "text/plain": [
       "  Churn  Gender SeniorCitizen Partner Dependents  Tenure PhoneService  \\\n",
       "0    No  Female            No     Yes        Yes       9          Yes   \n",
       "1    No    Male            No      No         No       9          Yes   \n",
       "2   Yes    Male            No      No         No       4          Yes   \n",
       "3   Yes    Male           Yes     Yes         No      13          Yes   \n",
       "4   Yes  Female           Yes     Yes         No       3          Yes   \n",
       "\n",
       "  MultipleLines InternetService OnlineSecurity  ...        Contract  \\\n",
       "0            No             Dsl             No  ...        One year   \n",
       "1           Yes             Dsl             No  ...  Month-to-month   \n",
       "2            No     Fiber optic             No  ...  Month-to-month   \n",
       "3            No     Fiber optic             No  ...  Month-to-month   \n",
       "4            No     Fiber optic             No  ...  Month-to-month   \n",
       "\n",
       "  PaperlessBilling     PaymentMethod DailyCharges MonthlyCharges  \\\n",
       "0              Yes      Mailed check        65,92           65,6   \n",
       "1               No      Mailed check        60,27           59,9   \n",
       "2              Yes  Electronic check        70,21           73,9   \n",
       "3              Yes  Electronic check        95,22           98,0   \n",
       "4              Yes      Mailed check        89,13           83,9   \n",
       "\n",
       "      AvgServiceCost TotalCharges ServiceCount TenureGroup Churn_binary  \n",
       "0               16,4        593,3            4        0–12            0  \n",
       "1              29,95        542,4            2        0–12            0  \n",
       "2              36,95       280,85            2        0–12            1  \n",
       "3               19,6      1237,85            5       13–24            1  \n",
       "4  27,96666666666667        267,4            3        0–12            1  \n",
       "\n",
       "[5 rows x 25 columns]"
      ]
     },
     "execution_count": 4,
     "metadata": {},
     "output_type": "execute_result"
    }
   ],
   "source": [
    "import pandas as pd\n",
    "telecom_dados = pd.read_csv('TelecomX_Data_Clean.csv', sep=';')\n",
    "telecom_dados.head()\n"
   ]
  },
  {
   "cell_type": "code",
   "execution_count": 13,
   "id": "153a12de",
   "metadata": {},
   "outputs": [
    {
     "name": "stdout",
     "output_type": "stream",
     "text": [
      "<class 'pandas.core.frame.DataFrame'>\n",
      "Index: 6952 entries, 0 to 7031\n",
      "Data columns (total 25 columns):\n",
      " #   Column            Non-Null Count  Dtype \n",
      "---  ------            --------------  ----- \n",
      " 0   Churn             6952 non-null   object\n",
      " 1   Gender            6952 non-null   object\n",
      " 2   SeniorCitizen     6952 non-null   object\n",
      " 3   Partner           6952 non-null   object\n",
      " 4   Dependents        6952 non-null   object\n",
      " 5   Tenure            6952 non-null   int64 \n",
      " 6   PhoneService      6952 non-null   object\n",
      " 7   MultipleLines     6952 non-null   object\n",
      " 8   InternetService   6952 non-null   object\n",
      " 9   OnlineSecurity    6952 non-null   object\n",
      " 10  OnlineBackup      6952 non-null   object\n",
      " 11  DeviceProtection  6952 non-null   object\n",
      " 12  TechSupport       6952 non-null   object\n",
      " 13  StreamingTV       6952 non-null   object\n",
      " 14  StreamingMovies   6952 non-null   object\n",
      " 15  Contract          6952 non-null   object\n",
      " 16  PaperlessBilling  6952 non-null   object\n",
      " 17  PaymentMethod     6952 non-null   object\n",
      " 18  DailyCharges      6952 non-null   object\n",
      " 19  MonthlyCharges    6952 non-null   object\n",
      " 20  AvgServiceCost    6952 non-null   object\n",
      " 21  TotalCharges      6952 non-null   object\n",
      " 22  ServiceCount      6952 non-null   int64 \n",
      " 23  TenureGroup       6952 non-null   object\n",
      " 24  Churn_binary      6952 non-null   int64 \n",
      "dtypes: int64(3), object(22)\n",
      "memory usage: 1.4+ MB\n"
     ]
    }
   ],
   "source": [
    "telecom_dados.info()"
   ]
  },
  {
   "cell_type": "code",
   "execution_count": 37,
   "id": "c543c416",
   "metadata": {},
   "outputs": [
    {
     "name": "stdout",
     "output_type": "stream",
     "text": [
      "Index(['Churn', 'Gender', 'SeniorCitizen', 'Partner', 'Dependents', 'Tenure',\n",
      "       'PhoneService', 'MultipleLines', 'InternetService', 'OnlineSecurity',\n",
      "       'OnlineBackup', 'DeviceProtection', 'TechSupport', 'StreamingTV',\n",
      "       'StreamingMovies', 'Contract', 'PaperlessBilling', 'PaymentMethod',\n",
      "       'DailyCharges', 'MonthlyCharges', 'AvgServiceCost', 'TotalCharges',\n",
      "       'ServiceCount', 'TenureGroup', 'Churn_binary'],\n",
      "      dtype='object')\n",
      "['No' 'Yes']\n",
      "Churn\n",
      "No     5163\n",
      "Yes    1869\n",
      "Name: count, dtype: int64\n"
     ]
    }
   ],
   "source": [
    "telecom_dados = pd.read_csv('TelecomX_Data_Clean.csv', sep=';')\n",
    "print(telecom_dados.columns)\n",
    "print(telecom_dados['Churn'].unique())\n",
    "print(telecom_dados['Churn'].value_counts())"
   ]
  },
  {
   "cell_type": "markdown",
   "id": "54f1cd9e",
   "metadata": {},
   "source": [
    "Remoção de Colunas Irrelevantes"
   ]
  },
  {
   "cell_type": "code",
   "execution_count": 10,
   "id": "69b4d55f",
   "metadata": {},
   "outputs": [
    {
     "name": "stdout",
     "output_type": "stream",
     "text": [
      "Total de Valores faltantes na tabela: \n",
      "Churn                0\n",
      "Gender               0\n",
      "SeniorCitizen        0\n",
      "Partner              0\n",
      "Dependents           0\n",
      "Tenure               0\n",
      "PhoneService         0\n",
      "MultipleLines        0\n",
      "InternetService      0\n",
      "OnlineSecurity       0\n",
      "OnlineBackup         0\n",
      "DeviceProtection     0\n",
      "TechSupport          0\n",
      "StreamingTV          0\n",
      "StreamingMovies      0\n",
      "Contract             0\n",
      "PaperlessBilling     0\n",
      "PaymentMethod        0\n",
      "DailyCharges         0\n",
      "MonthlyCharges       0\n",
      "AvgServiceCost      80\n",
      "TotalCharges         0\n",
      "ServiceCount         0\n",
      "TenureGroup          0\n",
      "Churn_binary         0\n",
      "dtype: int64\n"
     ]
    }
   ],
   "source": [
    "#Total de Valores Faltantes\n",
    "print(f'Total de Valores faltantes na tabela: \\n{telecom_dados.isnull().sum()}')"
   ]
  },
  {
   "cell_type": "markdown",
   "id": "2674efa4",
   "metadata": {},
   "source": [
    "Encoding"
   ]
  },
  {
   "cell_type": "code",
   "execution_count": 38,
   "id": "e01b7be9",
   "metadata": {},
   "outputs": [
    {
     "name": "stdout",
     "output_type": "stream",
     "text": [
      "0\n"
     ]
    }
   ],
   "source": [
    "telecom_dados['Churn_binary'].isnull()\n",
    "print(telecom_dados['Churn_binary'].isnull().sum())"
   ]
  },
  {
   "cell_type": "code",
   "execution_count": null,
   "id": "420f4cdb",
   "metadata": {},
   "outputs": [],
   "source": [
    "# Remover linhas com valores nulos na variável alvo\n",
    "telecom_dados = telecom_dados.dropna(subset=['Churn']).copy()\n",
    "\n",
    "# Converter Churn para binário\n",
    "telecom_dados['Churn_binary'] = telecom_dados['Churn'].map({'Yes': 1, 'No': 0})\n",
    "\n",
    "# Ajuste de vírgulas para pontos em colunas numéricas que vieram como string\n",
    "for col in ['TotalCharges', 'AvgServiceCost']:\n",
    "    telecom_dados[col] = telecom_dados[col].astype(str).str.replace(',', '.', regex=False).astype(float)\n",
    "\n",
    "# Preencher valores faltantes na AvgServiceCost com mediana\n",
    "telecom_dados['AvgServiceCost'] = telecom_dados['AvgServiceCost'].fillna(telecom_dados['AvgServiceCost'].median())\n"
   ]
  },
  {
   "cell_type": "code",
   "execution_count": 33,
   "id": "7bac3096",
   "metadata": {},
   "outputs": [
    {
     "name": "stdout",
     "output_type": "stream",
     "text": [
      "0    0\n",
      "1    0\n",
      "2    1\n",
      "3    1\n",
      "4    1\n",
      "Name: Churn_binary, dtype: int64\n",
      "0\n",
      "[0 1]\n"
     ]
    }
   ],
   "source": [
    "print(telecom_dados['Churn_binary'].head())\n",
    "print(telecom_dados['Churn_binary'].isnull().sum())\n",
    "print(telecom_dados['Churn_binary'].unique())"
   ]
  },
  {
   "cell_type": "markdown",
   "id": "119f1b19",
   "metadata": {},
   "source": [
    "Verificação da Proporção de Evasão"
   ]
  },
  {
   "cell_type": "code",
   "execution_count": 39,
   "id": "4ea5dad9",
   "metadata": {},
   "outputs": [
    {
     "name": "stdout",
     "output_type": "stream",
     "text": [
      "Proporção de clientes que evadiram: 26.58%\n"
     ]
    }
   ],
   "source": [
    "telecom_churn = telecom_dados['Churn_binary'].mean()\n",
    "print(f\"Proporção de clientes que evadiram: {telecom_churn:.2%}\")"
   ]
  },
  {
   "cell_type": "markdown",
   "id": "15ef94ff",
   "metadata": {},
   "source": [
    "Balanceamento de Classes (opcional )"
   ]
  },
  {
   "cell_type": "code",
   "execution_count": 40,
   "id": "cfa1db82",
   "metadata": {},
   "outputs": [
    {
     "data": {
      "image/png": "[encoded data removed]",
      "text/plain": [
       "<Figure size 1000x800 with 2 Axes>"
      ]
     },
     "metadata": {},
     "output_type": "display_data"
    }
   ],
   "source": [
    "corr = telecom_dados.select_dtypes(include=[np.number]).corr()\n",
    "plt.figure(figsize=(10,8))\n",
    "sns.heatmap(corr, annot=True, fmt='.2f', cmap='coolwarm')\n",
    "plt.title(\"Matriz de Correlação - Variáveis Numéricas\")\n",
    "plt.show()"
   ]
  },
  {
   "cell_type": "markdown",
   "id": "48ac8a85",
   "metadata": {},
   "source": [
    "Normalização ou Padronização (se necessário)"
   ]
  },
  {
   "cell_type": "markdown",
   "id": "868c3436",
   "metadata": {},
   "source": [
    "🎯 Correlação e Seleção de Variáveis"
   ]
  },
  {
   "cell_type": "markdown",
   "id": "28ad9ea1",
   "metadata": {},
   "source": [
    "Análise de Correlação"
   ]
  },
  {
   "cell_type": "markdown",
   "id": "3dc9cc8c",
   "metadata": {},
   "source": [
    "Análises Direcionadas"
   ]
  },
  {
   "cell_type": "markdown",
   "id": "63c75a8a",
   "metadata": {},
   "source": [
    "🛠️ Preparação dos Dados"
   ]
  },
  {
   "cell_type": "markdown",
   "id": "4e376b33",
   "metadata": {},
   "source": [
    "Separação de Dados"
   ]
  },
  {
   "cell_type": "markdown",
   "id": "34800dd9",
   "metadata": {},
   "source": [
    "Criação de Modelos"
   ]
  },
  {
   "cell_type": "markdown",
   "id": "bd16f2b7",
   "metadata": {},
   "source": [
    "📋  Interpretação e Conclusões"
   ]
  },
  {
   "cell_type": "markdown",
   "id": "f26fee36",
   "metadata": {},
   "source": [
    "Análise de Importância das Variáveis"
   ]
  },
  {
   "cell_type": "markdown",
   "id": "326d9efb",
   "metadata": {},
   "source": [
    "Conclusão"
   ]
  }
 ],
 "metadata": {
  "kernelspec": {
   "display_name": "Python 3",
   "language": "python",
   "name": "python3"
  },
  "language_info": {
   "codemirror_mode": {
    "name": "ipython",
    "version": 3
   },
   "file_extension": ".py",
   "mimetype": "text/x-python",
   "name": "python",
   "nbconvert_exporter": "python",
   "pygments_lexer": "ipython3",
   "version": "3.12.4"
  }
 },
 "nbformat": 4,
 "nbformat_minor": 5
}
